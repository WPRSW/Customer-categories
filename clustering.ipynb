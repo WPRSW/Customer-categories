{
 "cells": [
  {
   "cell_type": "code",
   "execution_count": 1,
   "id": "ca627f57",
   "metadata": {},
   "outputs": [],
   "source": [
    "import numpy as np \n",
    "import pandas as pd \n",
    "import matplotlib.pyplot as plt\n",
    "from sklearn.model_selection import train_test_split"
   ]
  },
  {
   "cell_type": "code",
   "execution_count": 2,
   "id": "88dc7a1c",
   "metadata": {},
   "outputs": [
    {
     "name": "stdout",
     "output_type": "stream",
     "text": [
      "<class 'pandas.core.frame.DataFrame'>\n",
      "RangeIndex: 200 entries, 0 to 199\n",
      "Data columns (total 5 columns):\n",
      " #   Column  Non-Null Count  Dtype \n",
      "---  ------  --------------  ----- \n",
      " 0   ID      200 non-null    int64 \n",
      " 1   Gender  200 non-null    object\n",
      " 2   Age     200 non-null    int64 \n",
      " 3   income  200 non-null    int64 \n",
      " 4   score   200 non-null    int64 \n",
      "dtypes: int64(4), object(1)\n",
      "memory usage: 7.1+ KB\n"
     ]
    },
    {
     "data": {
      "text/html": [
       "<div>\n",
       "<style scoped>\n",
       "    .dataframe tbody tr th:only-of-type {\n",
       "        vertical-align: middle;\n",
       "    }\n",
       "\n",
       "    .dataframe tbody tr th {\n",
       "        vertical-align: top;\n",
       "    }\n",
       "\n",
       "    .dataframe thead th {\n",
       "        text-align: right;\n",
       "    }\n",
       "</style>\n",
       "<table border=\"1\" class=\"dataframe\">\n",
       "  <thead>\n",
       "    <tr style=\"text-align: right;\">\n",
       "      <th></th>\n",
       "      <th>ID</th>\n",
       "      <th>Gender</th>\n",
       "      <th>Age</th>\n",
       "      <th>income</th>\n",
       "      <th>score</th>\n",
       "    </tr>\n",
       "  </thead>\n",
       "  <tbody>\n",
       "    <tr>\n",
       "      <th>0</th>\n",
       "      <td>1</td>\n",
       "      <td>Male</td>\n",
       "      <td>19</td>\n",
       "      <td>15</td>\n",
       "      <td>39</td>\n",
       "    </tr>\n",
       "    <tr>\n",
       "      <th>1</th>\n",
       "      <td>2</td>\n",
       "      <td>Male</td>\n",
       "      <td>21</td>\n",
       "      <td>15</td>\n",
       "      <td>81</td>\n",
       "    </tr>\n",
       "    <tr>\n",
       "      <th>2</th>\n",
       "      <td>3</td>\n",
       "      <td>Female</td>\n",
       "      <td>20</td>\n",
       "      <td>16</td>\n",
       "      <td>6</td>\n",
       "    </tr>\n",
       "    <tr>\n",
       "      <th>3</th>\n",
       "      <td>4</td>\n",
       "      <td>Female</td>\n",
       "      <td>23</td>\n",
       "      <td>16</td>\n",
       "      <td>77</td>\n",
       "    </tr>\n",
       "    <tr>\n",
       "      <th>4</th>\n",
       "      <td>5</td>\n",
       "      <td>Female</td>\n",
       "      <td>31</td>\n",
       "      <td>17</td>\n",
       "      <td>40</td>\n",
       "    </tr>\n",
       "  </tbody>\n",
       "</table>\n",
       "</div>"
      ],
      "text/plain": [
       "   ID  Gender  Age  income  score\n",
       "0   1    Male   19      15     39\n",
       "1   2    Male   21      15     81\n",
       "2   3  Female   20      16      6\n",
       "3   4  Female   23      16     77\n",
       "4   5  Female   31      17     40"
      ]
     },
     "execution_count": 2,
     "metadata": {},
     "output_type": "execute_result"
    }
   ],
   "source": [
    "df = pd.read_csv(\"cluster.csv\")\n",
    "df = df.rename(columns={\"CustomerID\":\"ID\",\"Annual Income (k$)\":\"income\",\"Spending Score (1-100)\":\"score\"})\n",
    "df.info()\n",
    "df.head()\n",
    "\n"
   ]
  },
  {
   "cell_type": "code",
   "execution_count": 3,
   "id": "173a9ff2",
   "metadata": {},
   "outputs": [
    {
     "data": {
      "text/plain": [
       "Female    112\n",
       "Male       88\n",
       "Name: Gender, dtype: int64"
      ]
     },
     "execution_count": 3,
     "metadata": {},
     "output_type": "execute_result"
    }
   ],
   "source": [
    "df[\"Gender\"].value_counts()"
   ]
  },
  {
   "cell_type": "code",
   "execution_count": 4,
   "id": "7e0fb757",
   "metadata": {},
   "outputs": [
    {
     "data": {
      "text/plain": [
       "0    112\n",
       "1     88\n",
       "Name: Gender, dtype: int64"
      ]
     },
     "execution_count": 4,
     "metadata": {},
     "output_type": "execute_result"
    }
   ],
   "source": [
    "from sklearn.preprocessing import LabelEncoder\n",
    "le = LabelEncoder()\n",
    "label = le.fit_transform(df[\"Gender\"])\n",
    "df[\"Gender\"] = label\n",
    "\n",
    "df[\"Gender\"].value_counts()"
   ]
  },
  {
   "cell_type": "code",
   "execution_count": 5,
   "id": "e27a16d5",
   "metadata": {},
   "outputs": [
    {
     "data": {
      "text/html": [
       "<div>\n",
       "<style scoped>\n",
       "    .dataframe tbody tr th:only-of-type {\n",
       "        vertical-align: middle;\n",
       "    }\n",
       "\n",
       "    .dataframe tbody tr th {\n",
       "        vertical-align: top;\n",
       "    }\n",
       "\n",
       "    .dataframe thead th {\n",
       "        text-align: right;\n",
       "    }\n",
       "</style>\n",
       "<table border=\"1\" class=\"dataframe\">\n",
       "  <thead>\n",
       "    <tr style=\"text-align: right;\">\n",
       "      <th></th>\n",
       "      <th>income</th>\n",
       "      <th>score</th>\n",
       "    </tr>\n",
       "  </thead>\n",
       "  <tbody>\n",
       "    <tr>\n",
       "      <th>0</th>\n",
       "      <td>-1.738999</td>\n",
       "      <td>-0.434801</td>\n",
       "    </tr>\n",
       "    <tr>\n",
       "      <th>1</th>\n",
       "      <td>-1.738999</td>\n",
       "      <td>1.195704</td>\n",
       "    </tr>\n",
       "    <tr>\n",
       "      <th>2</th>\n",
       "      <td>-1.700830</td>\n",
       "      <td>-1.715913</td>\n",
       "    </tr>\n",
       "    <tr>\n",
       "      <th>3</th>\n",
       "      <td>-1.700830</td>\n",
       "      <td>1.040418</td>\n",
       "    </tr>\n",
       "    <tr>\n",
       "      <th>4</th>\n",
       "      <td>-1.662660</td>\n",
       "      <td>-0.395980</td>\n",
       "    </tr>\n",
       "    <tr>\n",
       "      <th>...</th>\n",
       "      <td>...</td>\n",
       "      <td>...</td>\n",
       "    </tr>\n",
       "    <tr>\n",
       "      <th>195</th>\n",
       "      <td>2.268791</td>\n",
       "      <td>1.118061</td>\n",
       "    </tr>\n",
       "    <tr>\n",
       "      <th>196</th>\n",
       "      <td>2.497807</td>\n",
       "      <td>-0.861839</td>\n",
       "    </tr>\n",
       "    <tr>\n",
       "      <th>197</th>\n",
       "      <td>2.497807</td>\n",
       "      <td>0.923953</td>\n",
       "    </tr>\n",
       "    <tr>\n",
       "      <th>198</th>\n",
       "      <td>2.917671</td>\n",
       "      <td>-1.250054</td>\n",
       "    </tr>\n",
       "    <tr>\n",
       "      <th>199</th>\n",
       "      <td>2.917671</td>\n",
       "      <td>1.273347</td>\n",
       "    </tr>\n",
       "  </tbody>\n",
       "</table>\n",
       "<p>200 rows × 2 columns</p>\n",
       "</div>"
      ],
      "text/plain": [
       "       income     score\n",
       "0   -1.738999 -0.434801\n",
       "1   -1.738999  1.195704\n",
       "2   -1.700830 -1.715913\n",
       "3   -1.700830  1.040418\n",
       "4   -1.662660 -0.395980\n",
       "..        ...       ...\n",
       "195  2.268791  1.118061\n",
       "196  2.497807 -0.861839\n",
       "197  2.497807  0.923953\n",
       "198  2.917671 -1.250054\n",
       "199  2.917671  1.273347\n",
       "\n",
       "[200 rows x 2 columns]"
      ]
     },
     "execution_count": 5,
     "metadata": {},
     "output_type": "execute_result"
    }
   ],
   "source": [
    "from sklearn.preprocessing import StandardScaler\n",
    "cdf = df[[\"income\",\"score\"]]\n",
    "cdf_val = cdf.values\n",
    "scale = StandardScaler()\n",
    "data = scale.fit_transform(cdf_val)\n",
    "cdf = pd.DataFrame(data,columns=cdf.columns)\n",
    "cdf"
   ]
  },
  {
   "cell_type": "code",
   "execution_count": 6,
   "id": "84c22d6f",
   "metadata": {},
   "outputs": [
    {
     "data": {
      "text/plain": [
       "<matplotlib.collections.PathCollection at 0x8288688>"
      ]
     },
     "execution_count": 6,
     "metadata": {},
     "output_type": "execute_result"
    },
    {
     "data": {
      "image/png": "[encoded data removed]",
      "text/plain": [
       "<Figure size 432x288 with 1 Axes>"
      ]
     },
     "metadata": {
      "needs_background": "light"
     },
     "output_type": "display_data"
    }
   ],
   "source": [
    "plt.scatter(cdf[\"income\"],cdf[\"score\"])"
   ]
  },
  {
   "cell_type": "code",
   "execution_count": 7,
   "id": "ea8b7666",
   "metadata": {},
   "outputs": [
    {
     "data": {
      "text/plain": [
       "<matplotlib.collections.PathCollection at 0x8998148>"
      ]
     },
     "execution_count": 7,
     "metadata": {},
     "output_type": "execute_result"
    },
    {
     "data": {
      "image/png": "[encoded data removed]",
      "text/plain": [
       "<Figure size 432x288 with 1 Axes>"
      ]
     },
     "metadata": {
      "needs_background": "light"
     },
     "output_type": "display_data"
    }
   ],
   "source": [
    "plt.scatter(df[\"Age\"],df[\"income\"])"
   ]
  },
  {
   "cell_type": "code",
   "execution_count": 8,
   "id": "7ad35b1f",
   "metadata": {},
   "outputs": [
    {
     "data": {
      "text/plain": [
       "<matplotlib.collections.PathCollection at 0x89cd7d8>"
      ]
     },
     "execution_count": 8,
     "metadata": {},
     "output_type": "execute_result"
    },
    {
     "data": {
      "image/png": "[encoded data removed]",
      "text/plain": [
       "<Figure size 432x288 with 1 Axes>"
      ]
     },
     "metadata": {
      "needs_background": "light"
     },
     "output_type": "display_data"
    }
   ],
   "source": [
    "plt.scatter(df[\"Age\"],df[\"score\"])"
   ]
  },
  {
   "cell_type": "markdown",
   "id": "0ad23e9b",
   "metadata": {},
   "source": [
    "# K-means"
   ]
  },
  {
   "cell_type": "code",
   "execution_count": 9,
   "id": "6786930b",
   "metadata": {},
   "outputs": [
    {
     "name": "stdout",
     "output_type": "stream",
     "text": [
      "[3 0 3 0 3 0 3 0 3 0 3 0 3 0 3 0 3 0 3 0 3 0 3 0 3 0 3 0 3 0 3 0 3 0 3 0 3\n",
      " 0 3 0 3 0 3 1 3 0 1 1 1 1 1 1 1 1 1 1 1 1 1 1 1 1 1 1 1 1 1 1 1 1 1 1 1 1\n",
      " 1 1 1 1 1 1 1 1 1 1 1 1 1 1 1 1 1 1 1 1 1 1 1 1 1 1 1 1 1 1 1 1 1 1 1 1 1\n",
      " 1 1 1 1 1 1 1 1 1 1 1 1 4 2 4 1 4 2 4 2 4 1 4 2 4 2 4 2 4 2 4 1 4 2 4 2 4\n",
      " 2 4 2 4 2 4 2 4 2 4 2 4 2 4 2 4 2 4 2 4 2 4 2 4 2 4 2 4 2 4 2 4 2 4 2 4 2\n",
      " 4 2 4 2 4 2 4 2 4 2 4 2 4 2 4]\n",
      "center: [[-1.32954532  1.13217788]\n",
      " [-0.20091257 -0.02645617]\n",
      " [ 1.05500302 -1.28443907]\n",
      " [-1.30751869 -1.13696536]\n",
      " [ 0.99158305  1.23950275]]\n"
     ]
    }
   ],
   "source": [
    "from sklearn.cluster import KMeans\n",
    "k_mean = KMeans(init=\"k-means++\",n_clusters=5,n_init=12,random_state=42)\n",
    "k_mean.fit(cdf)\n",
    "lab = k_mean.labels_\n",
    "print(lab)\n",
    "center = k_mean.cluster_centers_\n",
    "print(\"center:\",center)"
   ]
  },
  {
   "cell_type": "code",
   "execution_count": 10,
   "id": "7123d74b",
   "metadata": {},
   "outputs": [],
   "source": [
    "cdf[\"cluster\"] = lab\n",
    "cdf\n",
    "df[\"cluster\"] = lab"
   ]
  },
  {
   "cell_type": "code",
   "execution_count": 11,
   "id": "1d2aaba1",
   "metadata": {},
   "outputs": [
    {
     "name": "stdout",
     "output_type": "stream",
     "text": [
      "         income  score\n",
      "cluster               \n",
      "0            22     22\n",
      "1            81     81\n",
      "2            35     35\n",
      "3            23     23\n",
      "4            39     39\n",
      "----------------------------------------------------------------------------------------------------\n",
      "                 ID    Gender        Age     income      score\n",
      "cluster                                                       \n",
      "0         23.090909  0.409091  25.272727  25.727273  79.363636\n",
      "1         86.320988  0.407407  42.716049  55.296296  49.518519\n",
      "2        164.371429  0.542857  41.114286  88.200000  17.114286\n",
      "3         23.000000  0.391304  45.217391  26.304348  20.913043\n",
      "4        162.000000  0.461538  32.692308  86.538462  82.128205\n"
     ]
    }
   ],
   "source": [
    "print(cdf.groupby(\"cluster\").count())\n",
    "print(\"--\"*50)\n",
    "print(df.groupby(\"cluster\").mean())\n"
   ]
  },
  {
   "cell_type": "code",
   "execution_count": 12,
   "id": "e9fa0b4b",
   "metadata": {},
   "outputs": [
    {
     "data": {
      "text/plain": [
       "Text(0, 0.5, 'Score')"
      ]
     },
     "execution_count": 12,
     "metadata": {},
     "output_type": "execute_result"
    },
    {
     "data": {
      "image/png": "[encoded data removed]",
      "text/plain": [
       "<Figure size 432x288 with 1 Axes>"
      ]
     },
     "metadata": {
      "needs_background": "light"
     },
     "output_type": "display_data"
    }
   ],
   "source": [
    "cdf_val = cdf.values\n",
    "cdf_val\n",
    "df_val = df.values\n",
    "#area = np.pi*(cdf_val[:,2])**2*10\n",
    "plt.scatter(cdf_val[:,0],cdf_val[:,1],c=lab.astype(np.float),alpha=0.5)\n",
    "plt.xlabel(\"Income\")\n",
    "plt.ylabel(\"Score\")"
   ]
  },
  {
   "cell_type": "markdown",
   "id": "b316ca1b",
   "metadata": {},
   "source": [
    "# agglomerative and hierarchical"
   ]
  },
  {
   "cell_type": "code",
   "execution_count": 13,
   "id": "457354ce",
   "metadata": {},
   "outputs": [],
   "source": [
    "from scipy.cluster import hierarchy\n",
    "from scipy.spatial import distance_matrix\n",
    "from sklearn.cluster import AgglomerativeClustering\n"
   ]
  },
  {
   "cell_type": "code",
   "execution_count": 14,
   "id": "877ddc03",
   "metadata": {},
   "outputs": [
    {
     "name": "stdout",
     "output_type": "stream",
     "text": [
      "Female    112\n",
      "Male       88\n",
      "Name: Gender, dtype: int64\n"
     ]
    }
   ],
   "source": [
    "dff = pd.read_csv(\"cluster.csv\")\n",
    "dff.head()\n",
    "dff = dff.rename(columns={\"CustomerID\":\"ID\",\"Annual Income (k$)\":\"income\",\"Spending Score (1-100)\":\"score\"})\n",
    "dff.head()\n",
    "print(dff[\"Gender\"].value_counts())"
   ]
  },
  {
   "cell_type": "code",
   "execution_count": 15,
   "id": "4e6b85a3",
   "metadata": {},
   "outputs": [
    {
     "data": {
      "text/html": [
       "<div>\n",
       "<style scoped>\n",
       "    .dataframe tbody tr th:only-of-type {\n",
       "        vertical-align: middle;\n",
       "    }\n",
       "\n",
       "    .dataframe tbody tr th {\n",
       "        vertical-align: top;\n",
       "    }\n",
       "\n",
       "    .dataframe thead th {\n",
       "        text-align: right;\n",
       "    }\n",
       "</style>\n",
       "<table border=\"1\" class=\"dataframe\">\n",
       "  <thead>\n",
       "    <tr style=\"text-align: right;\">\n",
       "      <th></th>\n",
       "      <th>ID</th>\n",
       "      <th>Gender</th>\n",
       "      <th>Age</th>\n",
       "      <th>income</th>\n",
       "      <th>score</th>\n",
       "    </tr>\n",
       "  </thead>\n",
       "  <tbody>\n",
       "    <tr>\n",
       "      <th>0</th>\n",
       "      <td>1</td>\n",
       "      <td>1</td>\n",
       "      <td>19</td>\n",
       "      <td>15</td>\n",
       "      <td>39</td>\n",
       "    </tr>\n",
       "    <tr>\n",
       "      <th>1</th>\n",
       "      <td>2</td>\n",
       "      <td>1</td>\n",
       "      <td>21</td>\n",
       "      <td>15</td>\n",
       "      <td>81</td>\n",
       "    </tr>\n",
       "    <tr>\n",
       "      <th>2</th>\n",
       "      <td>3</td>\n",
       "      <td>0</td>\n",
       "      <td>20</td>\n",
       "      <td>16</td>\n",
       "      <td>6</td>\n",
       "    </tr>\n",
       "    <tr>\n",
       "      <th>3</th>\n",
       "      <td>4</td>\n",
       "      <td>0</td>\n",
       "      <td>23</td>\n",
       "      <td>16</td>\n",
       "      <td>77</td>\n",
       "    </tr>\n",
       "    <tr>\n",
       "      <th>4</th>\n",
       "      <td>5</td>\n",
       "      <td>0</td>\n",
       "      <td>31</td>\n",
       "      <td>17</td>\n",
       "      <td>40</td>\n",
       "    </tr>\n",
       "  </tbody>\n",
       "</table>\n",
       "</div>"
      ],
      "text/plain": [
       "   ID  Gender  Age  income  score\n",
       "0   1       1   19      15     39\n",
       "1   2       1   21      15     81\n",
       "2   3       0   20      16      6\n",
       "3   4       0   23      16     77\n",
       "4   5       0   31      17     40"
      ]
     },
     "execution_count": 15,
     "metadata": {},
     "output_type": "execute_result"
    }
   ],
   "source": [
    "from sklearn.preprocessing import LabelEncoder\n",
    "le = LabelEncoder()\n",
    "label = le.fit_transform(df[\"Gender\"])\n",
    "dff[\"Gender\"] = label\n",
    "\n",
    "dff[\"Gender\"].value_counts()\n",
    "dff.head()\n"
   ]
  },
  {
   "cell_type": "code",
   "execution_count": 16,
   "id": "38ccde4f",
   "metadata": {},
   "outputs": [
    {
     "data": {
      "text/plain": [
       "array([[0.        , 0.3877551 ],\n",
       "       [0.        , 0.81632653],\n",
       "       [0.00819672, 0.05102041],\n",
       "       [0.00819672, 0.7755102 ],\n",
       "       [0.01639344, 0.39795918],\n",
       "       [0.01639344, 0.76530612],\n",
       "       [0.02459016, 0.05102041],\n",
       "       [0.02459016, 0.94897959],\n",
       "       [0.03278689, 0.02040816],\n",
       "       [0.03278689, 0.7244898 ],\n",
       "       [0.03278689, 0.13265306],\n",
       "       [0.03278689, 1.        ],\n",
       "       [0.04098361, 0.14285714],\n",
       "       [0.04098361, 0.7755102 ],\n",
       "       [0.04098361, 0.12244898],\n",
       "       [0.04098361, 0.79591837],\n",
       "       [0.04918033, 0.34693878],\n",
       "       [0.04918033, 0.66326531],\n",
       "       [0.06557377, 0.28571429],\n",
       "       [0.06557377, 0.98979592],\n",
       "       [0.07377049, 0.34693878],\n",
       "       [0.07377049, 0.73469388],\n",
       "       [0.08196721, 0.04081633],\n",
       "       [0.08196721, 0.73469388],\n",
       "       [0.10655738, 0.13265306],\n",
       "       [0.10655738, 0.82653061],\n",
       "       [0.10655738, 0.31632653],\n",
       "       [0.10655738, 0.6122449 ],\n",
       "       [0.1147541 , 0.30612245],\n",
       "       [0.1147541 , 0.87755102],\n",
       "       [0.12295082, 0.03061224],\n",
       "       [0.12295082, 0.73469388],\n",
       "       [0.14754098, 0.03061224],\n",
       "       [0.14754098, 0.92857143],\n",
       "       [0.14754098, 0.13265306],\n",
       "       [0.14754098, 0.81632653],\n",
       "       [0.1557377 , 0.16326531],\n",
       "       [0.1557377 , 0.73469388],\n",
       "       [0.18032787, 0.25510204],\n",
       "       [0.18032787, 0.75510204],\n",
       "       [0.18852459, 0.34693878],\n",
       "       [0.18852459, 0.92857143],\n",
       "       [0.19672131, 0.35714286],\n",
       "       [0.19672131, 0.6122449 ],\n",
       "       [0.19672131, 0.2755102 ],\n",
       "       [0.19672131, 0.65306122],\n",
       "       [0.20491803, 0.55102041],\n",
       "       [0.20491803, 0.46938776],\n",
       "       [0.20491803, 0.41836735],\n",
       "       [0.20491803, 0.41836735],\n",
       "       [0.22131148, 0.52040816],\n",
       "       [0.22131148, 0.60204082],\n",
       "       [0.2295082 , 0.54081633],\n",
       "       [0.2295082 , 0.60204082],\n",
       "       [0.2295082 , 0.44897959],\n",
       "       [0.2295082 , 0.40816327],\n",
       "       [0.23770492, 0.5       ],\n",
       "       [0.23770492, 0.45918367],\n",
       "       [0.25409836, 0.51020408],\n",
       "       [0.25409836, 0.45918367],\n",
       "       [0.25409836, 0.56122449],\n",
       "       [0.25409836, 0.55102041],\n",
       "       [0.26229508, 0.52040816],\n",
       "       [0.26229508, 0.59183673],\n",
       "       [0.2704918 , 0.51020408],\n",
       "       [0.2704918 , 0.59183673],\n",
       "       [0.2704918 , 0.5       ],\n",
       "       [0.2704918 , 0.47959184],\n",
       "       [0.2704918 , 0.59183673],\n",
       "       [0.2704918 , 0.46938776],\n",
       "       [0.27868852, 0.55102041],\n",
       "       [0.27868852, 0.41836735],\n",
       "       [0.28688525, 0.48979592],\n",
       "       [0.28688525, 0.56122449],\n",
       "       [0.31967213, 0.46938776],\n",
       "       [0.31967213, 0.54081633],\n",
       "       [0.31967213, 0.53061224],\n",
       "       [0.31967213, 0.47959184],\n",
       "       [0.31967213, 0.52040816],\n",
       "       [0.31967213, 0.41836735],\n",
       "       [0.31967213, 0.51020408],\n",
       "       [0.31967213, 0.55102041],\n",
       "       [0.31967213, 0.40816327],\n",
       "       [0.31967213, 0.43877551],\n",
       "       [0.31967213, 0.57142857],\n",
       "       [0.31967213, 0.45918367],\n",
       "       [0.3442623 , 0.58163265],\n",
       "       [0.3442623 , 0.55102041],\n",
       "       [0.35245902, 0.60204082],\n",
       "       [0.35245902, 0.45918367],\n",
       "       [0.36065574, 0.55102041],\n",
       "       [0.36065574, 0.40816327],\n",
       "       [0.36885246, 0.48979592],\n",
       "       [0.36885246, 0.39795918],\n",
       "       [0.36885246, 0.41836735],\n",
       "       [0.36885246, 0.52040816],\n",
       "       [0.36885246, 0.46938776],\n",
       "       [0.36885246, 0.5       ],\n",
       "       [0.37704918, 0.41836735],\n",
       "       [0.37704918, 0.48979592],\n",
       "       [0.3852459 , 0.40816327],\n",
       "       [0.3852459 , 0.47959184],\n",
       "       [0.3852459 , 0.59183673],\n",
       "       [0.3852459 , 0.55102041],\n",
       "       [0.3852459 , 0.56122449],\n",
       "       [0.3852459 , 0.41836735],\n",
       "       [0.39344262, 0.5       ],\n",
       "       [0.39344262, 0.45918367],\n",
       "       [0.39344262, 0.42857143],\n",
       "       [0.39344262, 0.47959184],\n",
       "       [0.39344262, 0.52040816],\n",
       "       [0.39344262, 0.54081633],\n",
       "       [0.40163934, 0.41836735],\n",
       "       [0.40163934, 0.45918367],\n",
       "       [0.40983607, 0.47959184],\n",
       "       [0.40983607, 0.5       ],\n",
       "       [0.40983607, 0.42857143],\n",
       "       [0.40983607, 0.59183673],\n",
       "       [0.42622951, 0.42857143],\n",
       "       [0.42622951, 0.57142857],\n",
       "       [0.42622951, 0.56122449],\n",
       "       [0.42622951, 0.39795918],\n",
       "       [0.44262295, 0.58163265],\n",
       "       [0.44262295, 0.91836735],\n",
       "       [0.45081967, 0.28571429],\n",
       "       [0.45081967, 0.7755102 ],\n",
       "       [0.45901639, 0.34693878],\n",
       "       [0.45901639, 0.95918367],\n",
       "       [0.45901639, 0.10204082],\n",
       "       [0.45901639, 0.75510204],\n",
       "       [0.45901639, 0.08163265],\n",
       "       [0.45901639, 0.75510204],\n",
       "       [0.46721311, 0.33673469],\n",
       "       [0.46721311, 0.71428571],\n",
       "       [0.47540984, 0.04081633],\n",
       "       [0.47540984, 0.8877551 ],\n",
       "       [0.47540984, 0.06122449],\n",
       "       [0.47540984, 0.73469388],\n",
       "       [0.48360656, 0.09183673],\n",
       "       [0.48360656, 0.7244898 ],\n",
       "       [0.49180328, 0.04081633],\n",
       "       [0.49180328, 0.93877551],\n",
       "       [0.5       , 0.39795918],\n",
       "       [0.5       , 0.87755102],\n",
       "       [0.50819672, 0.1122449 ],\n",
       "       [0.50819672, 0.97959184],\n",
       "       [0.50819672, 0.35714286],\n",
       "       [0.50819672, 0.74489796],\n",
       "       [0.51639344, 0.21428571],\n",
       "       [0.51639344, 0.90816327],\n",
       "       [0.51639344, 0.16326531],\n",
       "       [0.51639344, 0.8877551 ],\n",
       "       [0.51639344, 0.19387755],\n",
       "       [0.51639344, 0.76530612],\n",
       "       [0.51639344, 0.15306122],\n",
       "       [0.51639344, 0.89795918],\n",
       "       [0.51639344, 0.        ],\n",
       "       [0.51639344, 0.78571429],\n",
       "       [0.51639344, 0.        ],\n",
       "       [0.51639344, 0.73469388],\n",
       "       [0.52459016, 0.34693878],\n",
       "       [0.52459016, 0.83673469],\n",
       "       [0.54098361, 0.04081633],\n",
       "       [0.54098361, 0.93877551],\n",
       "       [0.57377049, 0.25510204],\n",
       "       [0.57377049, 0.75510204],\n",
       "       [0.58196721, 0.19387755],\n",
       "       [0.58196721, 0.95918367],\n",
       "       [0.59016393, 0.26530612],\n",
       "       [0.59016393, 0.63265306],\n",
       "       [0.59016393, 0.12244898],\n",
       "       [0.59016393, 0.75510204],\n",
       "       [0.59016393, 0.09183673],\n",
       "       [0.59016393, 0.92857143],\n",
       "       [0.59836066, 0.12244898],\n",
       "       [0.59836066, 0.86734694],\n",
       "       [0.59836066, 0.14285714],\n",
       "       [0.59836066, 0.69387755],\n",
       "       [0.63934426, 0.13265306],\n",
       "       [0.63934426, 0.90816327],\n",
       "       [0.67213115, 0.31632653],\n",
       "       [0.67213115, 0.86734694],\n",
       "       [0.68032787, 0.14285714],\n",
       "       [0.68032787, 0.8877551 ],\n",
       "       [0.68852459, 0.3877551 ],\n",
       "       [0.68852459, 0.97959184],\n",
       "       [0.70491803, 0.23469388],\n",
       "       [0.70491803, 0.68367347],\n",
       "       [0.72131148, 0.16326531],\n",
       "       [0.72131148, 0.85714286],\n",
       "       [0.72131148, 0.2244898 ],\n",
       "       [0.72131148, 0.69387755],\n",
       "       [0.80327869, 0.07142857],\n",
       "       [0.80327869, 0.91836735],\n",
       "       [0.86065574, 0.15306122],\n",
       "       [0.86065574, 0.79591837],\n",
       "       [0.90983607, 0.2755102 ],\n",
       "       [0.90983607, 0.74489796],\n",
       "       [1.        , 0.17346939],\n",
       "       [1.        , 0.83673469]])"
      ]
     },
     "execution_count": 16,
     "metadata": {},
     "output_type": "execute_result"
    }
   ],
   "source": [
    "cdf2 = dff[[\"income\",\"score\"]]\n",
    "from sklearn.preprocessing import MinMaxScaler\n",
    "x = cdf2.values\n",
    "min_max = MinMaxScaler()\n",
    "mtx = min_max.fit_transform(x)\n",
    "mtx"
   ]
  },
  {
   "cell_type": "code",
   "execution_count": 17,
   "id": "681e334d",
   "metadata": {
    "scrolled": false
   },
   "outputs": [
    {
     "data": {
      "text/plain": [
       "array([[0.35897908, 0.93334561],\n",
       "       [0.18208926, 0.983282  ],\n",
       "       [0.93632918, 0.35112344],\n",
       "       [0.20344646, 0.97908607],\n",
       "       [0.39114064, 0.92033092],\n",
       "       [0.21828984, 0.97588398],\n",
       "       [0.9486833 , 0.31622777],\n",
       "       [0.18807227, 0.98215519],\n",
       "       [0.98776297, 0.15596257],\n",
       "       [0.25515426, 0.96690036],\n",
       "       [0.80505584, 0.59319904],\n",
       "       [0.18847945, 0.98207713],\n",
       "       [0.8       , 0.6       ],\n",
       "       [0.25139836, 0.9678837 ],\n",
       "       [0.83844362, 0.54498835],\n",
       "       [0.24542187, 0.96941637],\n",
       "       [0.51449576, 0.85749293],\n",
       "       [0.30320366, 0.95292578],\n",
       "       [0.62139471, 0.78349768],\n",
       "       [0.22848559, 0.97354729],\n",
       "       [0.56552836, 0.82472885],\n",
       "       [0.31232107, 0.9499766 ],\n",
       "       [0.98058068, 0.19611614],\n",
       "       [0.32399297, 0.94605949],\n",
       "       [0.89442719, 0.4472136 ],\n",
       "       [0.32314385, 0.94634986],\n",
       "       [0.65850461, 0.75257669],\n",
       "       [0.41716766, 0.90882955],\n",
       "       [0.68315713, 0.73027141],\n",
       "       [0.31622777, 0.9486833 ],\n",
       "       [0.9912279 , 0.13216372],\n",
       "       [0.38011245, 0.92494028],\n",
       "       [0.99273378, 0.12033137],\n",
       "       [0.33763235, 0.94127807],\n",
       "       [0.92058178, 0.39054985],\n",
       "       [0.37729689, 0.92609236],\n",
       "       [0.89442719, 0.4472136 ],\n",
       "       [0.42220554, 0.90650013],\n",
       "       [0.8181917 , 0.57494552],\n",
       "       [0.44242424, 0.89680588],\n",
       "       [0.73554511, 0.67747575],\n",
       "       [0.38176015, 0.92426143],\n",
       "       [0.73480344, 0.6782801 ],\n",
       "       [0.5386617 , 0.84252215],\n",
       "       [0.81232373, 0.58320678],\n",
       "       [0.51449576, 0.85749293],\n",
       "       [0.5881717 , 0.80873608],\n",
       "       [0.64811863, 0.76153939],\n",
       "       [0.68965517, 0.72413793],\n",
       "       [0.68965517, 0.72413793],\n",
       "       [0.62833711, 0.77794118],\n",
       "       [0.57346234, 0.81923192],\n",
       "       [0.62292678, 0.78228014],\n",
       "       [0.58251894, 0.81281713],\n",
       "       [0.69085777, 0.72299069],\n",
       "       [0.72373754, 0.69007533],\n",
       "       [0.66062789, 0.75071352],\n",
       "       [0.69122265, 0.72264186],\n",
       "       [0.66976877, 0.74256972],\n",
       "       [0.70710678, 0.70710678],\n",
       "       [0.63473942, 0.77272625],\n",
       "       [0.6415552 , 0.76707687],\n",
       "       [0.67053967, 0.74187368],\n",
       "       [0.62307701, 0.7821605 ],\n",
       "       [0.6853647 , 0.72819999],\n",
       "       [0.63108747, 0.77571168],\n",
       "       [0.69253183, 0.72138732],\n",
       "       [0.70710678, 0.70710678],\n",
       "       [0.63108747, 0.77571168],\n",
       "       [0.71451043, 0.69962479],\n",
       "       [0.66520604, 0.74665984],\n",
       "       [0.7592566 , 0.65079137],\n",
       "       [0.71421284, 0.69992858],\n",
       "       [0.66601577, 0.74593766],\n",
       "       [0.75430472, 0.65652448],\n",
       "       [0.70710678, 0.70710678],\n",
       "       [0.71368409, 0.70046772],\n",
       "       [0.74740932, 0.66436384],\n",
       "       [0.72032021, 0.69364169],\n",
       "       [0.78935222, 0.61394061],\n",
       "       [0.72701315, 0.68662353],\n",
       "       [0.70059008, 0.71356397],\n",
       "       [0.79644632, 0.60470924],\n",
       "       [0.77523499, 0.63167295],\n",
       "       [0.68774465, 0.72595268],\n",
       "       [0.76124323, 0.64846646],\n",
       "       [0.70093153, 0.71322857],\n",
       "       [0.71961896, 0.69436917],\n",
       "       [0.6950221 , 0.71898838],\n",
       "       [0.78349768, 0.62139471],\n",
       "       [0.73146741, 0.6818764 ],\n",
       "       [0.82118879, 0.57065662],\n",
       "       [0.77453213, 0.63253457],\n",
       "       [0.83205029, 0.5547002 ],\n",
       "       [0.81923192, 0.57346234],\n",
       "       [0.75568908, 0.65493054],\n",
       "       [0.78722805, 0.61666198],\n",
       "       [0.76822128, 0.6401844 ],\n",
       "       [0.82364776, 0.56710173],\n",
       "       [0.77962036, 0.62625242],\n",
       "       [0.83411426, 0.55159169],\n",
       "       [0.79072371, 0.61217319],\n",
       "       [0.72441573, 0.68936336],\n",
       "       [0.74807464, 0.6636146 ],\n",
       "       [0.74210264, 0.67028626],\n",
       "       [0.82791869, 0.56084815],\n",
       "       [0.7832889 , 0.62165786],\n",
       "       [0.80762594, 0.58969513],\n",
       "       [0.82594987, 0.56374356],\n",
       "       [0.79543172, 0.60604322],\n",
       "       [0.77122303, 0.63656504],\n",
       "       [0.7592566 , 0.65079137],\n",
       "       [0.83604791, 0.54865644],\n",
       "       [0.81201537, 0.58363605],\n",
       "       [0.80443327, 0.59404303],\n",
       "       [0.79262399, 0.60971076],\n",
       "       [0.83401904, 0.55173567],\n",
       "       [0.74045531, 0.67210559],\n",
       "       [0.84158635, 0.54012259],\n",
       "       [0.76165876, 0.64797835],\n",
       "       [0.76728177, 0.64131013],\n",
       "       [0.85862161, 0.51260992],\n",
       "       [0.76548627, 0.64345223],\n",
       "       [0.60419481, 0.79683664],\n",
       "       [0.92385596, 0.38274033],\n",
       "       [0.67267279, 0.73994007],\n",
       "       [0.89693951, 0.44215328],\n",
       "       [0.59865008, 0.80101067],\n",
       "       [0.98821024, 0.15310299],\n",
       "       [0.68747603, 0.72620707],\n",
       "       [0.99206142, 0.12575426],\n",
       "       [0.68747603, 0.72620707],\n",
       "       [0.90424865, 0.42700631],\n",
       "       [0.71203417, 0.70214481],\n",
       "       [0.99766257, 0.06833305],\n",
       "       [0.63846226, 0.76965313],\n",
       "       [0.99543398, 0.09545257],\n",
       "       [0.70710678, 0.70710678],\n",
       "       [0.99099243, 0.1339179 ],\n",
       "       [0.71672593, 0.69735496],\n",
       "       [0.99778516, 0.06651901],\n",
       "       [0.62775245, 0.77841304],\n",
       "       [0.88491822, 0.46574643],\n",
       "       [0.65789154, 0.75311269],\n",
       "       [0.98807312, 0.15398542],\n",
       "       [0.62173649, 0.78322649],\n",
       "       [0.90588235, 0.42352941],\n",
       "       [0.72101298, 0.69292156],\n",
       "       [0.96244968, 0.27146017],\n",
       "       [0.65493054, 0.75568908],\n",
       "       [0.97706317, 0.21294967],\n",
       "       [0.66330751, 0.74834694],\n",
       "       [0.96866387, 0.24837535],\n",
       "       [0.71622959, 0.69786473],\n",
       "       [0.9796027 , 0.20094414],\n",
       "       [0.65910263, 0.752053  ],\n",
       "       [0.99991783, 0.01281946],\n",
       "       [0.70710678, 0.70710678],\n",
       "       [0.99991783, 0.01281946],\n",
       "       [0.73012075, 0.68331814],\n",
       "       [0.91428817, 0.40506438],\n",
       "       [0.68943722, 0.72434544],\n",
       "       [0.99810023, 0.06161113],\n",
       "       [0.65678074, 0.7540816 ],\n",
       "       [0.95626419, 0.29250434],\n",
       "       [0.74983786, 0.66162164],\n",
       "       [0.97400803, 0.22651349],\n",
       "       [0.67111763, 0.74135088],\n",
       "       [0.95506414, 0.29639921],\n",
       "       [0.80994212, 0.58650981],\n",
       "       [0.98901958, 0.14778454],\n",
       "       [0.75740996, 0.65293962],\n",
       "       [0.99345885, 0.11419067],\n",
       "       [0.6870872 , 0.72657497],\n",
       "       [0.98926374, 0.14614123],\n",
       "       [0.7151872 , 0.69893295],\n",
       "       [0.98578172, 0.16803097],\n",
       "       [0.78693856, 0.61703137],\n",
       "       [0.98885822, 0.14886038],\n",
       "       [0.71860214, 0.69542143],\n",
       "       [0.94965778, 0.31328916],\n",
       "       [0.74825991, 0.66340569],\n",
       "       [0.98848802, 0.15129919],\n",
       "       [0.74404871, 0.66812537],\n",
       "       [0.93040839, 0.36652452],\n",
       "       [0.71428497, 0.69985497],\n",
       "       [0.97290947, 0.23118641],\n",
       "       [0.82951458, 0.55848506],\n",
       "       [0.9866516 , 0.16284541],\n",
       "       [0.77128137, 0.63649434],\n",
       "       [0.97596359, 0.21793362],\n",
       "       [0.83080728, 0.55656021],\n",
       "       [0.99750331, 0.0706197 ],\n",
       "       [0.77884743, 0.62721342],\n",
       "       [0.9912279 , 0.13216372],\n",
       "       [0.83524884, 0.54987215],\n",
       "       [0.97618706, 0.21693046],\n",
       "       [0.86228586, 0.50642185],\n",
       "       [0.99147891, 0.1302673 ],\n",
       "       [0.85528167, 0.51816335]])"
      ]
     },
     "execution_count": 17,
     "metadata": {},
     "output_type": "execute_result"
    }
   ],
   "source": [
    "from sklearn.preprocessing import normalize\n",
    "nr = normalize(x)\n",
    "nr"
   ]
  },
  {
   "cell_type": "code",
   "execution_count": 18,
   "id": "1be832aa",
   "metadata": {},
   "outputs": [
    {
     "data": {
      "text/plain": [
       "array([[0.        , 0.1838033 , 0.81994865, ..., 0.65998606, 1.02224791,\n",
       "        0.64706458],\n",
       "       [0.1838033 , 0.        , 0.98412515, ..., 0.83070032, 1.17590207,\n",
       "        0.81824409],\n",
       "       [0.81994865, 0.98412515, 0.        , ..., 0.17204653, 0.22763771,\n",
       "        0.18566375],\n",
       "       ...,\n",
       "       [0.65998606, 0.83070032, 0.17204653, ..., 0.        , 0.39772238,\n",
       "        0.01367192],\n",
       "       [1.02224791, 1.17590207, 0.22763771, ..., 0.39772238, 0.        ,\n",
       "        0.41111194],\n",
       "       [0.64706458, 0.81824409, 0.18566375, ..., 0.01367192, 0.41111194,\n",
       "        0.        ]])"
      ]
     },
     "execution_count": 18,
     "metadata": {},
     "output_type": "execute_result"
    }
   ],
   "source": [
    "di = distance_matrix(nr,nr)\n",
    "di"
   ]
  },
  {
   "cell_type": "code",
   "execution_count": 19,
   "id": "15e9e0c9",
   "metadata": {},
   "outputs": [
    {
     "name": "stderr",
     "output_type": "stream",
     "text": [
      "<ipython-input-19-483e3b5376e0>:1: ClusterWarning: scipy.cluster: The symmetric non-negative hollow observation matrix looks suspiciously like an uncondensed distance matrix\n",
      "  hi = hierarchy.linkage(di,\"complete\")\n"
     ]
    },
    {
     "data": {
      "text/plain": [
       "array([4, 3, 7, 3, 4, 3, 2, 3, 2, 3, 8, 3, 8, 3, 8, 3, 5, 4, 6, 3, 5, 4,\n",
       "       2, 4, 7, 4, 6, 4, 6, 4, 2, 4, 2, 4, 7, 4, 7, 4, 8, 4, 6, 4, 6, 5,\n",
       "       8, 5, 5, 6, 6, 6, 6, 5, 6, 5, 6, 6, 6, 6, 6, 6, 6, 6, 6, 6, 6, 6,\n",
       "       6, 6, 6, 6, 6, 8, 6, 6, 8, 6, 6, 6, 6, 8, 6, 6, 8, 8, 6, 8, 6, 6,\n",
       "       6, 8, 6, 8, 8, 8, 8, 8, 8, 8, 8, 8, 8, 8, 6, 6, 6, 8, 8, 8, 8, 8,\n",
       "       8, 8, 8, 8, 8, 8, 8, 6, 8, 8, 8, 8, 8, 5, 7, 6, 7, 5, 2, 6, 2, 6,\n",
       "       7, 6, 1, 6, 1, 6, 2, 6, 1, 6, 7, 6, 2, 6, 7, 6, 2, 6, 2, 6, 2, 6,\n",
       "       2, 6, 1, 6, 1, 6, 7, 6, 1, 6, 2, 6, 2, 6, 2, 8, 2, 8, 2, 6, 2, 6,\n",
       "       2, 8, 2, 6, 2, 6, 2, 6, 7, 6, 2, 8, 2, 8, 2, 8, 1, 8, 2, 8, 2, 8,\n",
       "       2, 8], dtype=int32)"
      ]
     },
     "execution_count": 19,
     "metadata": {},
     "output_type": "execute_result"
    }
   ],
   "source": [
    "hi = hierarchy.linkage(di,\"complete\")\n",
    "clusteres = hierarchy.fcluster(hi,3,criterion=\"distance\")\n",
    "clusteres\n"
   ]
  },
  {
   "cell_type": "code",
   "execution_count": 20,
   "id": "736347dc",
   "metadata": {},
   "outputs": [
    {
     "data": {
      "text/plain": [
       "array([2, 2, 4, 2, 2, 2, 1, 2, 1, 2, 5, 2, 5, 2, 5, 2, 3, 2, 3, 2, 3, 2,\n",
       "       1, 2, 4, 2, 3, 2, 3, 2, 1, 2, 1, 2, 4, 2, 4, 2, 5, 2, 3, 2, 3, 3,\n",
       "       5, 3, 3, 3, 3, 3, 3, 3, 3, 3, 3, 3, 3, 3, 3, 3, 3, 3, 3, 3, 3, 3,\n",
       "       3, 3, 3, 3, 3, 5, 3, 3, 5, 3, 3, 3, 3, 5, 3, 3, 5, 5, 3, 5, 3, 3,\n",
       "       3, 5, 3, 5, 5, 5, 5, 5, 5, 5, 5, 5, 5, 5, 3, 3, 3, 5, 5, 5, 5, 5,\n",
       "       5, 5, 5, 5, 5, 5, 5, 3, 5, 5, 5, 5, 5, 3, 4, 3, 4, 3, 1, 3, 1, 3,\n",
       "       4, 3, 1, 3, 1, 3, 1, 3, 1, 3, 4, 3, 1, 3, 4, 3, 1, 3, 1, 3, 1, 3,\n",
       "       1, 3, 1, 3, 1, 3, 4, 3, 1, 3, 1, 3, 1, 3, 1, 5, 1, 5, 1, 3, 1, 3,\n",
       "       1, 5, 1, 3, 1, 3, 1, 3, 4, 3, 1, 5, 1, 5, 1, 5, 1, 5, 1, 5, 1, 5,\n",
       "       1, 5], dtype=int32)"
      ]
     },
     "execution_count": 20,
     "metadata": {},
     "output_type": "execute_result"
    }
   ],
   "source": [
    "mc = hierarchy.fcluster(hi,5,criterion=\"maxclust\")\n",
    "mc"
   ]
  },
  {
   "cell_type": "code",
   "execution_count": 21,
   "id": "87a49e5b",
   "metadata": {},
   "outputs": [
    {
     "data": {
      "image/png": "[encoded data removed]",
      "text/plain": [
       "<Figure size 432x288 with 1 Axes>"
      ]
     },
     "metadata": {
      "needs_background": "light"
     },
     "output_type": "display_data"
    }
   ],
   "source": [
    "dend = hierarchy.dendrogram(hi)\n"
   ]
  },
  {
   "cell_type": "code",
   "execution_count": 22,
   "id": "27e6e145",
   "metadata": {},
   "outputs": [
    {
     "name": "stdout",
     "output_type": "stream",
     "text": [
      "[2 2 4 2 2 2 0 2 0 2 3 2 3 2 3 2 1 2 1 2 1 2 0 2 4 2 1 2 1 2 0 2 0 2 4 2 4\n",
      " 2 3 2 1 2 1 1 3 1 1 1 1 1 1 1 1 1 1 1 1 1 1 1 1 1 1 1 1 1 1 1 1 1 1 3 1 1\n",
      " 3 1 1 1 1 3 1 1 3 3 1 3 1 1 1 3 1 3 3 3 3 3 3 3 3 3 3 3 1 1 1 3 3 3 3 3 3\n",
      " 3 3 3 3 3 3 1 3 3 3 3 3 1 4 1 4 1 0 1 0 1 4 1 0 1 0 1 0 1 0 1 4 1 0 1 4 1\n",
      " 0 1 0 1 0 1 0 1 0 1 0 1 4 1 0 1 0 1 0 1 0 3 0 3 0 1 0 1 0 3 0 1 0 1 0 1 4\n",
      " 1 0 3 0 3 0 3 0 3 0 3 0 3 0 3]\n"
     ]
    },
    {
     "name": "stderr",
     "output_type": "stream",
     "text": [
      "E:\\anaconda\\lib\\site-packages\\sklearn\\cluster\\_agglomerative.py:492: ClusterWarning: scipy.cluster: The symmetric non-negative hollow observation matrix looks suspiciously like an uncondensed distance matrix\n",
      "  out = hierarchy.linkage(X, method=linkage, metric=affinity)\n",
      "<ipython-input-22-55632905a118>:7: SettingWithCopyWarning: \n",
      "A value is trying to be set on a copy of a slice from a DataFrame.\n",
      "Try using .loc[row_indexer,col_indexer] = value instead\n",
      "\n",
      "See the caveats in the documentation: https://pandas.pydata.org/pandas-docs/stable/user_guide/indexing.html#returning-a-view-versus-a-copy\n",
      "  cdf2[\"cluster\"] = label\n"
     ]
    }
   ],
   "source": [
    "dist = distance_matrix\n",
    "agg = AgglomerativeClustering(n_clusters=5,linkage=\"complete\")\n",
    "agg.fit(di)\n",
    "label = agg.labels_\n",
    "print(label)\n",
    "\n",
    "cdf2[\"cluster\"] = label"
   ]
  },
  {
   "cell_type": "code",
   "execution_count": 23,
   "id": "0aaa2c3f",
   "metadata": {},
   "outputs": [
    {
     "name": "stderr",
     "output_type": "stream",
     "text": [
      "*c* argument looks like a single numeric RGB or RGBA sequence, which should be avoided as value-mapping will have precedence in case its length matches with *x* & *y*.  Please use the *color* keyword-argument or provide a 2-D array with a single row if you intend to specify the same RGB or RGBA value for all points.\n",
      "*c* argument looks like a single numeric RGB or RGBA sequence, which should be avoided as value-mapping will have precedence in case its length matches with *x* & *y*.  Please use the *color* keyword-argument or provide a 2-D array with a single row if you intend to specify the same RGB or RGBA value for all points.\n",
      "*c* argument looks like a single numeric RGB or RGBA sequence, which should be avoided as value-mapping will have precedence in case its length matches with *x* & *y*.  Please use the *color* keyword-argument or provide a 2-D array with a single row if you intend to specify the same RGB or RGBA value for all points.\n",
      "*c* argument looks like a single numeric RGB or RGBA sequence, which should be avoided as value-mapping will have precedence in case its length matches with *x* & *y*.  Please use the *color* keyword-argument or provide a 2-D array with a single row if you intend to specify the same RGB or RGBA value for all points.\n",
      "*c* argument looks like a single numeric RGB or RGBA sequence, which should be avoided as value-mapping will have precedence in case its length matches with *x* & *y*.  Please use the *color* keyword-argument or provide a 2-D array with a single row if you intend to specify the same RGB or RGBA value for all points.\n"
     ]
    },
    {
     "data": {
      "text/plain": [
       "Text(0, 0.5, 'SCORE')"
      ]
     },
     "execution_count": 23,
     "metadata": {},
     "output_type": "execute_result"
    },
    {
     "data": {
      "image/png": "[encoded data removed]",
      "text/plain": [
       "<Figure size 1152x1008 with 1 Axes>"
      ]
     },
     "metadata": {
      "needs_background": "light"
     },
     "output_type": "display_data"
    }
   ],
   "source": [
    "import matplotlib.cm as cm\n",
    "n_clusters = max(label)+1\n",
    "colors = cm.rainbow(np.linspace(0,1,n_clusters))\n",
    "cluster_label = list(range(0,n_clusters))\n",
    "plt.figure(figsize=(16,14))\n",
    "\n",
    "for c,l in zip(colors,cluster_label):\n",
    "    subset = (cdf2[cdf2[\"cluster\"]==l])\n",
    "    plt.scatter(subset.income,subset.score,s=40,c=c,label=\"cluster\")\n",
    "    \n",
    "\n",
    "plt.xlabel(\"INCOME\")\n",
    "plt.ylabel(\"SCORE\")\n",
    "        "
   ]
  },
  {
   "cell_type": "code",
   "execution_count": 24,
   "id": "f4b43615",
   "metadata": {},
   "outputs": [
    {
     "name": "stdout",
     "output_type": "stream",
     "text": [
      "         income  score\n",
      "cluster               \n",
      "0            36     36\n",
      "1            80     80\n",
      "2            23     23\n",
      "3            50     50\n",
      "4            11     11\n",
      "----------------------------------------------------------------------------------------------------\n",
      "mean:                   ID    Gender        Age     income      score\n",
      "cluster                                                       \n",
      "0        145.500000  0.583333  42.472222  80.194444  13.388889\n",
      "1         96.150000  0.412500  40.012500  58.362500  62.750000\n",
      "2         20.347826  0.434783  25.304348  24.304348  76.521739\n",
      "3        111.620000  0.440000  40.580000  66.840000  49.580000\n",
      "4        101.909091  0.181818  39.000000  59.545455  27.181818\n",
      "----------------------------------------------------------------------------------------------------\n",
      "count:           ID  Gender  Age  income  score\n",
      "cluster                                \n",
      "0        36      36   36      36     36\n",
      "1        80      80   80      80     80\n",
      "2        23      23   23      23     23\n",
      "3        50      50   50      50     50\n",
      "4        11      11   11      11     11\n"
     ]
    }
   ],
   "source": [
    "dff[\"cluster\"] = label\n",
    "print(cdf2.groupby(\"cluster\").count())\n",
    "print(\"--\"*50)\n",
    "print(\"mean: \",dff.groupby(\"cluster\").mean())\n",
    "print(\"--\"*50)\n",
    "print(\"count: \",dff.groupby(\"cluster\").count())"
   ]
  },
  {
   "cell_type": "markdown",
   "id": "a777975c",
   "metadata": {},
   "source": [
    "# DBSCAN"
   ]
  },
  {
   "cell_type": "code",
   "execution_count": 25,
   "id": "67d61ff1",
   "metadata": {},
   "outputs": [
    {
     "name": "stdout",
     "output_type": "stream",
     "text": [
      "<class 'pandas.core.frame.DataFrame'>\n",
      "RangeIndex: 200 entries, 0 to 199\n",
      "Data columns (total 5 columns):\n",
      " #   Column  Non-Null Count  Dtype \n",
      "---  ------  --------------  ----- \n",
      " 0   ID      200 non-null    int64 \n",
      " 1   Gender  200 non-null    object\n",
      " 2   Age     200 non-null    int64 \n",
      " 3   income  200 non-null    int64 \n",
      " 4   score   200 non-null    int64 \n",
      "dtypes: int64(4), object(1)\n",
      "memory usage: 7.1+ KB\n"
     ]
    },
    {
     "data": {
      "text/html": [
       "<div>\n",
       "<style scoped>\n",
       "    .dataframe tbody tr th:only-of-type {\n",
       "        vertical-align: middle;\n",
       "    }\n",
       "\n",
       "    .dataframe tbody tr th {\n",
       "        vertical-align: top;\n",
       "    }\n",
       "\n",
       "    .dataframe thead th {\n",
       "        text-align: right;\n",
       "    }\n",
       "</style>\n",
       "<table border=\"1\" class=\"dataframe\">\n",
       "  <thead>\n",
       "    <tr style=\"text-align: right;\">\n",
       "      <th></th>\n",
       "      <th>ID</th>\n",
       "      <th>Gender</th>\n",
       "      <th>Age</th>\n",
       "      <th>income</th>\n",
       "      <th>score</th>\n",
       "    </tr>\n",
       "  </thead>\n",
       "  <tbody>\n",
       "    <tr>\n",
       "      <th>0</th>\n",
       "      <td>1</td>\n",
       "      <td>Male</td>\n",
       "      <td>19</td>\n",
       "      <td>15</td>\n",
       "      <td>39</td>\n",
       "    </tr>\n",
       "    <tr>\n",
       "      <th>1</th>\n",
       "      <td>2</td>\n",
       "      <td>Male</td>\n",
       "      <td>21</td>\n",
       "      <td>15</td>\n",
       "      <td>81</td>\n",
       "    </tr>\n",
       "    <tr>\n",
       "      <th>2</th>\n",
       "      <td>3</td>\n",
       "      <td>Female</td>\n",
       "      <td>20</td>\n",
       "      <td>16</td>\n",
       "      <td>6</td>\n",
       "    </tr>\n",
       "    <tr>\n",
       "      <th>3</th>\n",
       "      <td>4</td>\n",
       "      <td>Female</td>\n",
       "      <td>23</td>\n",
       "      <td>16</td>\n",
       "      <td>77</td>\n",
       "    </tr>\n",
       "    <tr>\n",
       "      <th>4</th>\n",
       "      <td>5</td>\n",
       "      <td>Female</td>\n",
       "      <td>31</td>\n",
       "      <td>17</td>\n",
       "      <td>40</td>\n",
       "    </tr>\n",
       "  </tbody>\n",
       "</table>\n",
       "</div>"
      ],
      "text/plain": [
       "   ID  Gender  Age  income  score\n",
       "0   1    Male   19      15     39\n",
       "1   2    Male   21      15     81\n",
       "2   3  Female   20      16      6\n",
       "3   4  Female   23      16     77\n",
       "4   5  Female   31      17     40"
      ]
     },
     "execution_count": 25,
     "metadata": {},
     "output_type": "execute_result"
    }
   ],
   "source": [
    "from sklearn.cluster import DBSCAN\n",
    "cluster_df = pd.read_csv(\"cluster.csv\")\n",
    "cluster_df = cluster_df.rename(columns={\"CustomerID\":\"ID\",\"Annual Income (k$)\":\"income\",\"Spending Score (1-100)\":\"score\"})\n",
    "cluster_df.info()\n",
    "cluster_df.head()"
   ]
  },
  {
   "cell_type": "code",
   "execution_count": 26,
   "id": "019486be",
   "metadata": {},
   "outputs": [
    {
     "data": {
      "text/html": [
       "<div>\n",
       "<style scoped>\n",
       "    .dataframe tbody tr th:only-of-type {\n",
       "        vertical-align: middle;\n",
       "    }\n",
       "\n",
       "    .dataframe tbody tr th {\n",
       "        vertical-align: top;\n",
       "    }\n",
       "\n",
       "    .dataframe thead th {\n",
       "        text-align: right;\n",
       "    }\n",
       "</style>\n",
       "<table border=\"1\" class=\"dataframe\">\n",
       "  <thead>\n",
       "    <tr style=\"text-align: right;\">\n",
       "      <th></th>\n",
       "      <th>ID</th>\n",
       "      <th>Gender</th>\n",
       "      <th>Age</th>\n",
       "      <th>income</th>\n",
       "      <th>score</th>\n",
       "    </tr>\n",
       "  </thead>\n",
       "  <tbody>\n",
       "    <tr>\n",
       "      <th>0</th>\n",
       "      <td>1</td>\n",
       "      <td>1</td>\n",
       "      <td>19</td>\n",
       "      <td>15</td>\n",
       "      <td>39</td>\n",
       "    </tr>\n",
       "    <tr>\n",
       "      <th>1</th>\n",
       "      <td>2</td>\n",
       "      <td>1</td>\n",
       "      <td>21</td>\n",
       "      <td>15</td>\n",
       "      <td>81</td>\n",
       "    </tr>\n",
       "    <tr>\n",
       "      <th>2</th>\n",
       "      <td>3</td>\n",
       "      <td>0</td>\n",
       "      <td>20</td>\n",
       "      <td>16</td>\n",
       "      <td>6</td>\n",
       "    </tr>\n",
       "    <tr>\n",
       "      <th>3</th>\n",
       "      <td>4</td>\n",
       "      <td>0</td>\n",
       "      <td>23</td>\n",
       "      <td>16</td>\n",
       "      <td>77</td>\n",
       "    </tr>\n",
       "    <tr>\n",
       "      <th>4</th>\n",
       "      <td>5</td>\n",
       "      <td>0</td>\n",
       "      <td>31</td>\n",
       "      <td>17</td>\n",
       "      <td>40</td>\n",
       "    </tr>\n",
       "  </tbody>\n",
       "</table>\n",
       "</div>"
      ],
      "text/plain": [
       "   ID  Gender  Age  income  score\n",
       "0   1       1   19      15     39\n",
       "1   2       1   21      15     81\n",
       "2   3       0   20      16      6\n",
       "3   4       0   23      16     77\n",
       "4   5       0   31      17     40"
      ]
     },
     "execution_count": 26,
     "metadata": {},
     "output_type": "execute_result"
    }
   ],
   "source": [
    "from sklearn.preprocessing import LabelEncoder\n",
    "le = LabelEncoder()\n",
    "label = le.fit_transform(df[\"Gender\"])\n",
    "cluster_df[\"Gender\"] = label\n",
    "\n",
    "cluster_df[\"Gender\"].value_counts()\n",
    "cluster_df.head()"
   ]
  },
  {
   "cell_type": "code",
   "execution_count": 27,
   "id": "9d814aaa",
   "metadata": {},
   "outputs": [
    {
     "data": {
      "text/html": [
       "<div>\n",
       "<style scoped>\n",
       "    .dataframe tbody tr th:only-of-type {\n",
       "        vertical-align: middle;\n",
       "    }\n",
       "\n",
       "    .dataframe tbody tr th {\n",
       "        vertical-align: top;\n",
       "    }\n",
       "\n",
       "    .dataframe thead th {\n",
       "        text-align: right;\n",
       "    }\n",
       "</style>\n",
       "<table border=\"1\" class=\"dataframe\">\n",
       "  <thead>\n",
       "    <tr style=\"text-align: right;\">\n",
       "      <th></th>\n",
       "      <th>income</th>\n",
       "      <th>score</th>\n",
       "    </tr>\n",
       "  </thead>\n",
       "  <tbody>\n",
       "    <tr>\n",
       "      <th>0</th>\n",
       "      <td>-1.738999</td>\n",
       "      <td>-0.434801</td>\n",
       "    </tr>\n",
       "    <tr>\n",
       "      <th>1</th>\n",
       "      <td>-1.738999</td>\n",
       "      <td>1.195704</td>\n",
       "    </tr>\n",
       "    <tr>\n",
       "      <th>2</th>\n",
       "      <td>-1.700830</td>\n",
       "      <td>-1.715913</td>\n",
       "    </tr>\n",
       "    <tr>\n",
       "      <th>3</th>\n",
       "      <td>-1.700830</td>\n",
       "      <td>1.040418</td>\n",
       "    </tr>\n",
       "    <tr>\n",
       "      <th>4</th>\n",
       "      <td>-1.662660</td>\n",
       "      <td>-0.395980</td>\n",
       "    </tr>\n",
       "    <tr>\n",
       "      <th>...</th>\n",
       "      <td>...</td>\n",
       "      <td>...</td>\n",
       "    </tr>\n",
       "    <tr>\n",
       "      <th>195</th>\n",
       "      <td>2.268791</td>\n",
       "      <td>1.118061</td>\n",
       "    </tr>\n",
       "    <tr>\n",
       "      <th>196</th>\n",
       "      <td>2.497807</td>\n",
       "      <td>-0.861839</td>\n",
       "    </tr>\n",
       "    <tr>\n",
       "      <th>197</th>\n",
       "      <td>2.497807</td>\n",
       "      <td>0.923953</td>\n",
       "    </tr>\n",
       "    <tr>\n",
       "      <th>198</th>\n",
       "      <td>2.917671</td>\n",
       "      <td>-1.250054</td>\n",
       "    </tr>\n",
       "    <tr>\n",
       "      <th>199</th>\n",
       "      <td>2.917671</td>\n",
       "      <td>1.273347</td>\n",
       "    </tr>\n",
       "  </tbody>\n",
       "</table>\n",
       "<p>200 rows × 2 columns</p>\n",
       "</div>"
      ],
      "text/plain": [
       "       income     score\n",
       "0   -1.738999 -0.434801\n",
       "1   -1.738999  1.195704\n",
       "2   -1.700830 -1.715913\n",
       "3   -1.700830  1.040418\n",
       "4   -1.662660 -0.395980\n",
       "..        ...       ...\n",
       "195  2.268791  1.118061\n",
       "196  2.497807 -0.861839\n",
       "197  2.497807  0.923953\n",
       "198  2.917671 -1.250054\n",
       "199  2.917671  1.273347\n",
       "\n",
       "[200 rows x 2 columns]"
      ]
     },
     "execution_count": 27,
     "metadata": {},
     "output_type": "execute_result"
    }
   ],
   "source": [
    "from sklearn.preprocessing import StandardScaler\n",
    "pdf = cluster_df[[\"income\",\"score\"]]\n",
    "pdf_val = pdf.values\n",
    "scaler = StandardScaler()\n",
    "data2 = scale.fit_transform(pdf_val)\n",
    "pdf = pd.DataFrame(data2,columns=pdf.columns)\n",
    "pdf"
   ]
  },
  {
   "cell_type": "code",
   "execution_count": 28,
   "id": "e9b88e91",
   "metadata": {},
   "outputs": [
    {
     "data": {
      "text/plain": [
       "<matplotlib.collections.PathCollection at 0x8faebf8>"
      ]
     },
     "execution_count": 28,
     "metadata": {},
     "output_type": "execute_result"
    },
    {
     "data": {
      "image/png": "[encoded data removed]",
      "text/plain": [
       "<Figure size 432x288 with 1 Axes>"
      ]
     },
     "metadata": {
      "needs_background": "light"
     },
     "output_type": "display_data"
    }
   ],
   "source": [
    "plt.scatter(pdf[\"income\"],pdf[\"score\"])"
   ]
  },
  {
   "cell_type": "code",
   "execution_count": 29,
   "id": "a59941b4",
   "metadata": {},
   "outputs": [
    {
     "data": {
      "text/plain": [
       "array([ 1,  0, -1,  0,  1,  0, -1, -1, -1,  0, -1, -1, -1,  0, -1,  0,  1,\n",
       "        0,  1, -1,  1,  0, -1,  0, -1, -1,  1, -1, -1, -1, -1,  0, -1, -1,\n",
       "       -1, -1, -1, -1, -1, -1,  2, -1,  2,  2, -1,  2,  2,  2,  2,  2,  2,\n",
       "        2,  2,  2,  2,  2,  2,  2,  2,  2,  2,  2,  2,  2,  2,  2,  2,  2,\n",
       "        2,  2,  2,  2,  2,  2,  2,  2,  2,  2,  2,  2,  2,  2,  2,  2,  2,\n",
       "        2,  2,  2,  2,  2,  2,  2,  2,  2,  2,  2,  2,  2,  2,  2,  2,  2,\n",
       "        2,  2,  2,  2,  2,  2,  2,  2,  2,  2,  2,  2,  2,  2,  2,  2,  2,\n",
       "        2,  2,  2,  2,  3,  2,  3,  2,  3,  4,  3,  4,  3,  2,  3,  4,  3,\n",
       "        4,  3,  4,  3,  4,  3,  2,  3,  4,  3,  2,  3,  4,  3,  4,  3,  4,\n",
       "        3,  4,  3,  4,  3,  4,  3,  2,  3,  4,  3,  5,  3,  5,  3,  5, -1,\n",
       "        5,  3,  5,  3,  5, -1,  5,  3,  5, -1, -1, -1,  5, -1, -1, -1, -1,\n",
       "       -1, -1, -1, -1, -1, -1, -1, -1, -1, -1, -1, -1, -1], dtype=int32)"
      ]
     },
     "execution_count": 29,
     "metadata": {},
     "output_type": "execute_result"
    }
   ],
   "source": [
    "db = DBSCAN(eps=0.3,min_samples=6)\n",
    "db.fit(data2)\n",
    "labels = db.labels_\n",
    "labels"
   ]
  },
  {
   "cell_type": "code",
   "execution_count": 30,
   "id": "5c2d5b95",
   "metadata": {},
   "outputs": [],
   "source": [
    "rang = plt.cm.Spectral(np.linspace(0,1,len(set(labels))))\n",
    "pdf[\"cluster\"] = labels"
   ]
  },
  {
   "cell_type": "code",
   "execution_count": 31,
   "id": "5056092d",
   "metadata": {},
   "outputs": [
    {
     "name": "stderr",
     "output_type": "stream",
     "text": [
      "*c* argument looks like a single numeric RGB or RGBA sequence, which should be avoided as value-mapping will have precedence in case its length matches with *x* & *y*.  Please use the *color* keyword-argument or provide a 2-D array with a single row if you intend to specify the same RGB or RGBA value for all points.\n",
      "*c* argument looks like a single numeric RGB or RGBA sequence, which should be avoided as value-mapping will have precedence in case its length matches with *x* & *y*.  Please use the *color* keyword-argument or provide a 2-D array with a single row if you intend to specify the same RGB or RGBA value for all points.\n",
      "*c* argument looks like a single numeric RGB or RGBA sequence, which should be avoided as value-mapping will have precedence in case its length matches with *x* & *y*.  Please use the *color* keyword-argument or provide a 2-D array with a single row if you intend to specify the same RGB or RGBA value for all points.\n",
      "*c* argument looks like a single numeric RGB or RGBA sequence, which should be avoided as value-mapping will have precedence in case its length matches with *x* & *y*.  Please use the *color* keyword-argument or provide a 2-D array with a single row if you intend to specify the same RGB or RGBA value for all points.\n",
      "*c* argument looks like a single numeric RGB or RGBA sequence, which should be avoided as value-mapping will have precedence in case its length matches with *x* & *y*.  Please use the *color* keyword-argument or provide a 2-D array with a single row if you intend to specify the same RGB or RGBA value for all points.\n",
      "*c* argument looks like a single numeric RGB or RGBA sequence, which should be avoided as value-mapping will have precedence in case its length matches with *x* & *y*.  Please use the *color* keyword-argument or provide a 2-D array with a single row if you intend to specify the same RGB or RGBA value for all points.\n"
     ]
    },
    {
     "data": {
      "image/png": "[encoded data removed]",
      "text/plain": [
       "<Figure size 432x288 with 1 Axes>"
      ]
     },
     "metadata": {
      "needs_background": "light"
     },
     "output_type": "display_data"
    }
   ],
   "source": [
    "n_clusters = max(labels)+1\n",
    "cluster_label = list(range(0,n_clusters))\n",
    "for c,l in zip(rang,cluster_label):\n",
    "    subset = (pdf[pdf[\"cluster\"]==l])\n",
    "    plt.scatter(subset.income,subset.score,s=40,c=c,label=\"cluster\")\n",
    "    plt.legend(set(labels))"
   ]
  },
  {
   "cell_type": "code",
   "execution_count": 32,
   "id": "cb9c1211",
   "metadata": {},
   "outputs": [
    {
     "name": "stdout",
     "output_type": "stream",
     "text": [
      "         income  score\n",
      "cluster               \n",
      "-1           48     48\n",
      " 0           10     10\n",
      " 1            6      6\n",
      " 2           87     87\n",
      " 3           26     26\n",
      " 4           14     14\n",
      " 5            9      9\n",
      "----------------------------------------------------------------------------------------------------\n",
      "mean:                   ID    Gender        Age     income      score\n",
      "cluster                                                       \n",
      "-1       100.458333  0.354167  37.208333  64.250000  49.958333\n",
      " 0        14.800000  0.500000  23.900000  20.700000  74.700000\n",
      " 1        15.000000  0.500000  36.166667  21.333333  35.000000\n",
      " 2        86.839080  0.402299  42.804598  55.413793  48.816092\n",
      " 3       149.307692  0.461538  32.923077  77.307692  82.461538\n",
      " 4       146.000000  0.642857  37.785714  75.928571  10.071429\n",
      " 5       173.222222  0.777778  46.555556  88.777778  17.000000\n",
      "----------------------------------------------------------------------------------------------------\n",
      "count:           ID  Gender  Age  income  score\n",
      "cluster                                \n",
      "-1       48      48   48      48     48\n",
      " 0       10      10   10      10     10\n",
      " 1        6       6    6       6      6\n",
      " 2       87      87   87      87     87\n",
      " 3       26      26   26      26     26\n",
      " 4       14      14   14      14     14\n",
      " 5        9       9    9       9      9\n"
     ]
    }
   ],
   "source": [
    "cluster_df[\"cluster\"] = labels\n",
    "\n",
    "\n",
    "print(pdf.groupby(\"cluster\").count())\n",
    "print(\"--\"*50)\n",
    "print(\"mean: \",cluster_df.groupby(\"cluster\").mean())\n",
    "print(\"--\"*50)\n",
    "print(\"count: \",cluster_df.groupby(\"cluster\").count())"
   ]
  },
  {
   "cell_type": "markdown",
   "id": "704f4c0c",
   "metadata": {},
   "source": [
    "# MeanShift\n"
   ]
  },
  {
   "cell_type": "code",
   "execution_count": 33,
   "id": "f5cf8be7",
   "metadata": {},
   "outputs": [
    {
     "data": {
      "text/html": [
       "<div>\n",
       "<style scoped>\n",
       "    .dataframe tbody tr th:only-of-type {\n",
       "        vertical-align: middle;\n",
       "    }\n",
       "\n",
       "    .dataframe tbody tr th {\n",
       "        vertical-align: top;\n",
       "    }\n",
       "\n",
       "    .dataframe thead th {\n",
       "        text-align: right;\n",
       "    }\n",
       "</style>\n",
       "<table border=\"1\" class=\"dataframe\">\n",
       "  <thead>\n",
       "    <tr style=\"text-align: right;\">\n",
       "      <th></th>\n",
       "      <th>ID</th>\n",
       "      <th>Gender</th>\n",
       "      <th>Age</th>\n",
       "      <th>income</th>\n",
       "      <th>score</th>\n",
       "    </tr>\n",
       "  </thead>\n",
       "  <tbody>\n",
       "    <tr>\n",
       "      <th>0</th>\n",
       "      <td>1</td>\n",
       "      <td>1</td>\n",
       "      <td>19</td>\n",
       "      <td>15</td>\n",
       "      <td>39</td>\n",
       "    </tr>\n",
       "    <tr>\n",
       "      <th>1</th>\n",
       "      <td>2</td>\n",
       "      <td>1</td>\n",
       "      <td>21</td>\n",
       "      <td>15</td>\n",
       "      <td>81</td>\n",
       "    </tr>\n",
       "    <tr>\n",
       "      <th>2</th>\n",
       "      <td>3</td>\n",
       "      <td>0</td>\n",
       "      <td>20</td>\n",
       "      <td>16</td>\n",
       "      <td>6</td>\n",
       "    </tr>\n",
       "    <tr>\n",
       "      <th>3</th>\n",
       "      <td>4</td>\n",
       "      <td>0</td>\n",
       "      <td>23</td>\n",
       "      <td>16</td>\n",
       "      <td>77</td>\n",
       "    </tr>\n",
       "    <tr>\n",
       "      <th>4</th>\n",
       "      <td>5</td>\n",
       "      <td>0</td>\n",
       "      <td>31</td>\n",
       "      <td>17</td>\n",
       "      <td>40</td>\n",
       "    </tr>\n",
       "    <tr>\n",
       "      <th>...</th>\n",
       "      <td>...</td>\n",
       "      <td>...</td>\n",
       "      <td>...</td>\n",
       "      <td>...</td>\n",
       "      <td>...</td>\n",
       "    </tr>\n",
       "    <tr>\n",
       "      <th>195</th>\n",
       "      <td>196</td>\n",
       "      <td>0</td>\n",
       "      <td>35</td>\n",
       "      <td>120</td>\n",
       "      <td>79</td>\n",
       "    </tr>\n",
       "    <tr>\n",
       "      <th>196</th>\n",
       "      <td>197</td>\n",
       "      <td>0</td>\n",
       "      <td>45</td>\n",
       "      <td>126</td>\n",
       "      <td>28</td>\n",
       "    </tr>\n",
       "    <tr>\n",
       "      <th>197</th>\n",
       "      <td>198</td>\n",
       "      <td>1</td>\n",
       "      <td>32</td>\n",
       "      <td>126</td>\n",
       "      <td>74</td>\n",
       "    </tr>\n",
       "    <tr>\n",
       "      <th>198</th>\n",
       "      <td>199</td>\n",
       "      <td>1</td>\n",
       "      <td>32</td>\n",
       "      <td>137</td>\n",
       "      <td>18</td>\n",
       "    </tr>\n",
       "    <tr>\n",
       "      <th>199</th>\n",
       "      <td>200</td>\n",
       "      <td>1</td>\n",
       "      <td>30</td>\n",
       "      <td>137</td>\n",
       "      <td>83</td>\n",
       "    </tr>\n",
       "  </tbody>\n",
       "</table>\n",
       "<p>200 rows × 5 columns</p>\n",
       "</div>"
      ],
      "text/plain": [
       "      ID  Gender  Age  income  score\n",
       "0      1       1   19      15     39\n",
       "1      2       1   21      15     81\n",
       "2      3       0   20      16      6\n",
       "3      4       0   23      16     77\n",
       "4      5       0   31      17     40\n",
       "..   ...     ...  ...     ...    ...\n",
       "195  196       0   35     120     79\n",
       "196  197       0   45     126     28\n",
       "197  198       1   32     126     74\n",
       "198  199       1   32     137     18\n",
       "199  200       1   30     137     83\n",
       "\n",
       "[200 rows x 5 columns]"
      ]
     },
     "execution_count": 33,
     "metadata": {},
     "output_type": "execute_result"
    }
   ],
   "source": [
    "from sklearn.cluster import MeanShift\n",
    "ms = cluster_df\n",
    "ms = ms.drop(\"cluster\",axis=1)\n",
    "ms"
   ]
  },
  {
   "cell_type": "code",
   "execution_count": 34,
   "id": "5eb47d3b",
   "metadata": {},
   "outputs": [
    {
     "data": {
      "text/html": [
       "<div>\n",
       "<style scoped>\n",
       "    .dataframe tbody tr th:only-of-type {\n",
       "        vertical-align: middle;\n",
       "    }\n",
       "\n",
       "    .dataframe tbody tr th {\n",
       "        vertical-align: top;\n",
       "    }\n",
       "\n",
       "    .dataframe thead th {\n",
       "        text-align: right;\n",
       "    }\n",
       "</style>\n",
       "<table border=\"1\" class=\"dataframe\">\n",
       "  <thead>\n",
       "    <tr style=\"text-align: right;\">\n",
       "      <th></th>\n",
       "      <th>income</th>\n",
       "      <th>score</th>\n",
       "    </tr>\n",
       "  </thead>\n",
       "  <tbody>\n",
       "    <tr>\n",
       "      <th>0</th>\n",
       "      <td>-1.738999</td>\n",
       "      <td>-0.434801</td>\n",
       "    </tr>\n",
       "    <tr>\n",
       "      <th>1</th>\n",
       "      <td>-1.738999</td>\n",
       "      <td>1.195704</td>\n",
       "    </tr>\n",
       "    <tr>\n",
       "      <th>2</th>\n",
       "      <td>-1.700830</td>\n",
       "      <td>-1.715913</td>\n",
       "    </tr>\n",
       "    <tr>\n",
       "      <th>3</th>\n",
       "      <td>-1.700830</td>\n",
       "      <td>1.040418</td>\n",
       "    </tr>\n",
       "    <tr>\n",
       "      <th>4</th>\n",
       "      <td>-1.662660</td>\n",
       "      <td>-0.395980</td>\n",
       "    </tr>\n",
       "    <tr>\n",
       "      <th>...</th>\n",
       "      <td>...</td>\n",
       "      <td>...</td>\n",
       "    </tr>\n",
       "    <tr>\n",
       "      <th>195</th>\n",
       "      <td>2.268791</td>\n",
       "      <td>1.118061</td>\n",
       "    </tr>\n",
       "    <tr>\n",
       "      <th>196</th>\n",
       "      <td>2.497807</td>\n",
       "      <td>-0.861839</td>\n",
       "    </tr>\n",
       "    <tr>\n",
       "      <th>197</th>\n",
       "      <td>2.497807</td>\n",
       "      <td>0.923953</td>\n",
       "    </tr>\n",
       "    <tr>\n",
       "      <th>198</th>\n",
       "      <td>2.917671</td>\n",
       "      <td>-1.250054</td>\n",
       "    </tr>\n",
       "    <tr>\n",
       "      <th>199</th>\n",
       "      <td>2.917671</td>\n",
       "      <td>1.273347</td>\n",
       "    </tr>\n",
       "  </tbody>\n",
       "</table>\n",
       "<p>200 rows × 2 columns</p>\n",
       "</div>"
      ],
      "text/plain": [
       "       income     score\n",
       "0   -1.738999 -0.434801\n",
       "1   -1.738999  1.195704\n",
       "2   -1.700830 -1.715913\n",
       "3   -1.700830  1.040418\n",
       "4   -1.662660 -0.395980\n",
       "..        ...       ...\n",
       "195  2.268791  1.118061\n",
       "196  2.497807 -0.861839\n",
       "197  2.497807  0.923953\n",
       "198  2.917671 -1.250054\n",
       "199  2.917671  1.273347\n",
       "\n",
       "[200 rows x 2 columns]"
      ]
     },
     "execution_count": 34,
     "metadata": {},
     "output_type": "execute_result"
    }
   ],
   "source": [
    "from sklearn.preprocessing import StandardScaler\n",
    "pdf2 = ms[[\"income\",\"score\"]]\n",
    "pdf2_val = pdf.values\n",
    "scaler = StandardScaler()\n",
    "data3 = scale.fit_transform(pdf_val)\n",
    "pdf2 = pd.DataFrame(data3,columns=pdf2.columns)\n",
    "pdf2"
   ]
  },
  {
   "cell_type": "code",
   "execution_count": 35,
   "id": "d1c19d7f",
   "metadata": {},
   "outputs": [
    {
     "data": {
      "text/plain": [
       "<matplotlib.collections.PathCollection at 0x904d538>"
      ]
     },
     "execution_count": 35,
     "metadata": {},
     "output_type": "execute_result"
    },
    {
     "data": {
      "image/png": "[encoded data removed]",
      "text/plain": [
       "<Figure size 432x288 with 1 Axes>"
      ]
     },
     "metadata": {
      "needs_background": "light"
     },
     "output_type": "display_data"
    }
   ],
   "source": [
    "plt.scatter(pdf2[\"income\"],pdf2[\"score\"])"
   ]
  },
  {
   "cell_type": "code",
   "execution_count": 36,
   "id": "6e8b4b49",
   "metadata": {},
   "outputs": [
    {
     "data": {
      "text/plain": [
       "array([4, 3, 4, 3, 4, 3, 4, 3, 4, 3, 4, 3, 4, 3, 4, 3, 4, 3, 4, 3, 4, 3,\n",
       "       4, 3, 4, 3, 4, 3, 4, 3, 4, 3, 4, 3, 4, 3, 4, 3, 4, 3, 4, 3, 4, 3,\n",
       "       4, 3, 0, 0, 0, 0, 0, 0, 0, 0, 0, 0, 0, 0, 0, 0, 0, 0, 0, 0, 0, 0,\n",
       "       0, 0, 0, 0, 0, 0, 0, 0, 0, 0, 0, 0, 0, 0, 0, 0, 0, 0, 0, 0, 0, 0,\n",
       "       0, 0, 0, 0, 0, 0, 0, 0, 0, 0, 0, 0, 0, 0, 0, 0, 0, 0, 0, 0, 0, 0,\n",
       "       0, 0, 0, 0, 0, 0, 0, 0, 0, 0, 0, 0, 1, 1, 2, 1, 2, 1, 2, 1, 2, 1,\n",
       "       2, 1, 2, 1, 2, 1, 2, 1, 2, 1, 2, 1, 2, 1, 2, 1, 2, 1, 2, 1, 2, 1,\n",
       "       2, 1, 2, 1, 2, 1, 2, 1, 2, 1, 2, 1, 2, 1, 2, 1, 2, 1, 2, 1, 2, 1,\n",
       "       2, 1, 2, 1, 2, 1, 2, 1, 2, 1, 2, 1, 2, 1, 2, 1, 2, 1, 2, 1, 2, 1,\n",
       "       2, 1], dtype=int32)"
      ]
     },
     "execution_count": 36,
     "metadata": {},
     "output_type": "execute_result"
    }
   ],
   "source": [
    "mean_shift = MeanShift(bandwidth=0.9)\n",
    "mean_shift.fit(data3)\n",
    "lab2 = mean_shift.labels_\n",
    "lab2"
   ]
  },
  {
   "cell_type": "code",
   "execution_count": 37,
   "id": "f0dca7b4",
   "metadata": {},
   "outputs": [],
   "source": [
    "rang2 = plt.cm.Spectral(np.linspace(0,1,len(set(lab2))))\n",
    "pdf2[\"cluster\"] = lab2"
   ]
  },
  {
   "cell_type": "code",
   "execution_count": 38,
   "id": "90aae3e9",
   "metadata": {},
   "outputs": [
    {
     "name": "stderr",
     "output_type": "stream",
     "text": [
      "*c* argument looks like a single numeric RGB or RGBA sequence, which should be avoided as value-mapping will have precedence in case its length matches with *x* & *y*.  Please use the *color* keyword-argument or provide a 2-D array with a single row if you intend to specify the same RGB or RGBA value for all points.\n",
      "*c* argument looks like a single numeric RGB or RGBA sequence, which should be avoided as value-mapping will have precedence in case its length matches with *x* & *y*.  Please use the *color* keyword-argument or provide a 2-D array with a single row if you intend to specify the same RGB or RGBA value for all points.\n",
      "*c* argument looks like a single numeric RGB or RGBA sequence, which should be avoided as value-mapping will have precedence in case its length matches with *x* & *y*.  Please use the *color* keyword-argument or provide a 2-D array with a single row if you intend to specify the same RGB or RGBA value for all points.\n",
      "*c* argument looks like a single numeric RGB or RGBA sequence, which should be avoided as value-mapping will have precedence in case its length matches with *x* & *y*.  Please use the *color* keyword-argument or provide a 2-D array with a single row if you intend to specify the same RGB or RGBA value for all points.\n",
      "*c* argument looks like a single numeric RGB or RGBA sequence, which should be avoided as value-mapping will have precedence in case its length matches with *x* & *y*.  Please use the *color* keyword-argument or provide a 2-D array with a single row if you intend to specify the same RGB or RGBA value for all points.\n"
     ]
    },
    {
     "data": {
      "image/png": "[encoded data removed]",
      "text/plain": [
       "<Figure size 432x288 with 1 Axes>"
      ]
     },
     "metadata": {
      "needs_background": "light"
     },
     "output_type": "display_data"
    }
   ],
   "source": [
    "n_clusters = max(labels)+1\n",
    "cluster_label = list(range(0,n_clusters))\n",
    "for c,l in zip(rang2,cluster_label):\n",
    "    subset = (pdf2[pdf2[\"cluster\"]==l])\n",
    "    plt.scatter(subset.income,subset.score,s=40,c=c,label=set(lab2))\n",
    "    plt.legend(set(lab2))"
   ]
  },
  {
   "cell_type": "code",
   "execution_count": 39,
   "id": "1c83ed58",
   "metadata": {},
   "outputs": [
    {
     "name": "stdout",
     "output_type": "stream",
     "text": [
      "         income  score\n",
      "cluster               \n",
      "0            76     76\n",
      "1            40     40\n",
      "2            38     38\n",
      "3            23     23\n",
      "4            23     23\n",
      "----------------------------------------------------------------------------------------------------\n",
      "mean:                ID    Gender        Age     income      score\n",
      "cluster                                                    \n",
      "0         84.500  0.421053  43.328947  54.631579  49.776316\n",
      "1        161.025  0.450000  32.875000  86.100000  81.525000\n",
      "2        162.000  0.526316  40.394737  87.000000  18.631579\n",
      "3         24.000  0.391304  25.521739  26.304348  78.565217\n",
      "4         23.000  0.391304  45.217391  26.304348  20.913043\n",
      "----------------------------------------------------------------------------------------------------\n",
      "count:           ID  Gender  Age  income  score\n",
      "cluster                                \n",
      "0        76      76   76      76     76\n",
      "1        40      40   40      40     40\n",
      "2        38      38   38      38     38\n",
      "3        23      23   23      23     23\n",
      "4        23      23   23      23     23\n"
     ]
    }
   ],
   "source": [
    "ms[\"cluster\"] = lab2\n",
    "print(pdf2.groupby(\"cluster\").count())\n",
    "print(\"--\"*50)\n",
    "print(\"mean: \",ms.groupby(\"cluster\").mean())\n",
    "print(\"--\"*50)\n",
    "print(\"count: \",ms.groupby(\"cluster\").count())"
   ]
  },
  {
   "cell_type": "code",
   "execution_count": null,
   "id": "538ce203",
   "metadata": {},
   "outputs": [],
   "source": []
  }
 ],
 "metadata": {
  "kernelspec": {
   "display_name": "Python 3",
   "language": "python",
   "name": "python3"
  },
  "language_info": {
   "codemirror_mode": {
    "name": "ipython",
    "version": 3
   },
   "file_extension": ".py",
   "mimetype": "text/x-python",
   "name": "python",
   "nbconvert_exporter": "python",
   "pygments_lexer": "ipython3",
   "version": "3.8.8"
  }
 },
 "nbformat": 4,
 "nbformat_minor": 5
}
